{
 "cells": [
  {
   "cell_type": "code",
   "execution_count": 2,
   "metadata": {},
   "outputs": [],
   "source": [
    "import random \n",
    "def generate_stu():\n",
    "    scores = []\n",
    "    for _ in range(5):\n",
    "        scores.append(random.randint(50,100))\n",
    "    return scores"
   ]
  },
  {
   "cell_type": "code",
   "execution_count": 3,
   "metadata": {},
   "outputs": [
    {
     "name": "stdout",
     "output_type": "stream",
     "text": [
      "請輸入學生的人數:"
     ]
    },
    {
     "data": {
      "text/plain": [
       "[[72, 62, 54, 61, 51],\n",
       " [88, 72, 73, 86, 66],\n",
       " [76, 91, 72, 83, 92],\n",
       " [96, 79, 74, 55, 60],\n",
       " [58, 61, 54, 69, 100],\n",
       " [57, 57, 83, 97, 62],\n",
       " [61, 64, 60, 95, 97],\n",
       " [61, 97, 80, 69, 91],\n",
       " [95, 52, 57, 94, 53],\n",
       " [86, 88, 64, 74, 92],\n",
       " [56, 79, 78, 56, 88],\n",
       " [81, 91, 83, 65, 67],\n",
       " [63, 60, 68, 82, 59],\n",
       " [63, 80, 63, 78, 81],\n",
       " [53, 94, 52, 85, 50],\n",
       " [68, 60, 67, 95, 86],\n",
       " [62, 93, 58, 68, 84],\n",
       " [53, 82, 91, 57, 68],\n",
       " [99, 75, 53, 66, 60],\n",
       " [90, 93, 96, 57, 77],\n",
       " [62, 66, 66, 52, 62],\n",
       " [63, 78, 56, 92, 95],\n",
       " [76, 87, 95, 58, 95],\n",
       " [92, 74, 94, 52, 81],\n",
       " [61, 95, 82, 87, 52],\n",
       " [76, 73, 92, 70, 85],\n",
       " [52, 99, 71, 58, 77],\n",
       " [76, 72, 100, 71, 50],\n",
       " [81, 94, 75, 74, 90],\n",
       " [52, 83, 79, 84, 64]]"
      ]
     },
     "execution_count": 3,
     "metadata": {},
     "output_type": "execute_result"
    }
   ],
   "source": [
    "import pyinputplus as pyip\n",
    "\n",
    "num = pyip.inputInt('請輸入學生的人數:',min=5,max=50)\n",
    "students = []\n",
    "for _ in range(num):\n",
    "    scores =  generate_stu()\n",
    "    students.append(scores)\n",
    "\n",
    "students"
   ]
  }
 ],
 "metadata": {
  "kernelspec": {
   "display_name": "Python 3",
   "language": "python",
   "name": "python3"
  },
  "language_info": {
   "codemirror_mode": {
    "name": "ipython",
    "version": 3
   },
   "file_extension": ".py",
   "mimetype": "text/x-python",
   "name": "python",
   "nbconvert_exporter": "python",
   "pygments_lexer": "ipython3",
   "version": "3.10.8"
  },
  "orig_nbformat": 4
 },
 "nbformat": 4,
 "nbformat_minor": 2
}
