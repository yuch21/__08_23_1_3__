{
 "cells": [
  {
   "cell_type": "code",
   "execution_count": 5,
   "metadata": {},
   "outputs": [],
   "source": [
    "import random \n",
    "def generate_stu():\n",
    "    scores = []\n",
    "    for _ in range(5):\n",
    "        scores.append(random.randint(50,100))\n",
    "    return scores"
   ]
  },
  {
   "cell_type": "code",
   "execution_count": 6,
   "metadata": {},
   "outputs": [
    {
     "name": "stdout",
     "output_type": "stream",
     "text": [
      "請輸入學生的人數:"
     ]
    },
    {
     "name": "stdout",
     "output_type": "stream",
     "text": [
      "Blank values are not allowed.\n",
      "請輸入學生的人數:Blank values are not allowed.\n",
      "請輸入學生的人數:Blank values are not allowed.\n",
      "請輸入學生的人數:Blank values are not allowed.\n",
      "請輸入學生的人數:Blank values are not allowed.\n",
      "請輸入學生的人數:Blank values are not allowed.\n",
      "請輸入學生的人數:Blank values are not allowed.\n",
      "請輸入學生的人數:Blank values are not allowed.\n",
      "請輸入學生的人數:Blank values are not allowed.\n",
      "請輸入學生的人數:Blank values are not allowed.\n",
      "請輸入學生的人數:Blank values are not allowed.\n",
      "請輸入學生的人數:Blank values are not allowed.\n",
      "請輸入學生的人數:Blank values are not allowed.\n",
      "請輸入學生的人數:Blank values are not allowed.\n",
      "請輸入學生的人數:Blank values are not allowed.\n",
      "請輸入學生的人數:Blank values are not allowed.\n",
      "請輸入學生的人數:Blank values are not allowed.\n",
      "請輸入學生的人數:Blank values are not allowed.\n",
      "請輸入學生的人數:Blank values are not allowed.\n",
      "請輸入學生的人數:Blank values are not allowed.\n",
      "請輸入學生的人數:Blank values are not allowed.\n",
      "請輸入學生的人數:Blank values are not allowed.\n",
      "請輸入學生的人數:Blank values are not allowed.\n",
      "請輸入學生的人數:Blank values are not allowed.\n",
      "請輸入學生的人數:Blank values are not allowed.\n",
      "請輸入學生的人數:Blank values are not allowed.\n",
      "請輸入學生的人數:Blank values are not allowed.\n",
      "請輸入學生的人數:Blank values are not allowed.\n",
      "請輸入學生的人數:Blank values are not allowed.\n",
      "請輸入學生的人數:Blank values are not allowed.\n",
      "請輸入學生的人數:Blank values are not allowed.\n",
      "請輸入學生的人數:Blank values are not allowed.\n",
      "請輸入學生的人數:Blank values are not allowed.\n",
      "請輸入學生的人數:Blank values are not allowed.\n",
      "請輸入學生的人數:Blank values are not allowed.\n",
      "請輸入學生的人數:Blank values are not allowed.\n",
      "請輸入學生的人數:Blank values are not allowed.\n",
      "請輸入學生的人數:Blank values are not allowed.\n",
      "請輸入學生的人數:Blank values are not allowed.\n",
      "請輸入學生的人數:Blank values are not allowed.\n",
      "請輸入學生的人數:Blank values are not allowed.\n",
      "請輸入學生的人數:Blank values are not allowed.\n",
      "請輸入學生的人數:Blank values are not allowed.\n",
      "請輸入學生的人數:Blank values are not allowed.\n",
      "請輸入學生的人數:Blank values are not allowed.\n",
      "請輸入學生的人數:Blank values are not allowed.\n",
      "請輸入學生的人數:Blank values are not allowed.\n",
      "請輸入學生的人數:Blank values are not allowed.\n",
      "請輸入學生的人數:Blank values are not allowed.\n",
      "請輸入學生的人數:Blank values are not allowed.\n",
      "請輸入學生的人數:Blank values are not allowed.\n",
      "請輸入學生的人數:Blank values are not allowed.\n",
      "請輸入學生的人數:Blank values are not allowed.\n",
      "請輸入學生的人數:Blank values are not allowed.\n",
      "請輸入學生的人數:Blank values are not allowed.\n",
      "請輸入學生的人數:Blank values are not allowed.\n",
      "請輸入學生的人數:Blank values are not allowed.\n",
      "請輸入學生的人數:Blank values are not allowed.\n",
      "請輸入學生的人數:Blank values are not allowed.\n",
      "請輸入學生的人數:Blank values are not allowed.\n",
      "請輸入學生的人數:Blank values are not allowed.\n",
      "請輸入學生的人數:Blank values are not allowed.\n",
      "請輸入學生的人數:Blank values are not allowed.\n",
      "請輸入學生的人數:Blank values are not allowed.\n",
      "請輸入學生的人數:Blank values are not allowed.\n",
      "請輸入學生的人數:Blank values are not allowed.\n",
      "請輸入學生的人數:Blank values are not allowed.\n",
      "請輸入學生的人數:Blank values are not allowed.\n",
      "請輸入學生的人數:Blank values are not allowed.\n",
      "請輸入學生的人數:Blank values are not allowed.\n",
      "請輸入學生的人數:Blank values are not allowed.\n",
      "請輸入學生的人數:Blank values are not allowed.\n",
      "請輸入學生的人數:Blank values are not allowed.\n",
      "請輸入學生的人數:Blank values are not allowed.\n",
      "請輸入學生的人數:Blank values are not allowed.\n",
      "請輸入學生的人數:Blank values are not allowed.\n",
      "請輸入學生的人數:Blank values are not allowed.\n",
      "請輸入學生的人數:Blank values are not allowed.\n",
      "請輸入學生的人數:Blank values are not allowed.\n",
      "請輸入學生的人數:Blank values are not allowed.\n",
      "請輸入學生的人數:Blank values are not allowed.\n",
      "請輸入學生的人數:Blank values are not allowed.\n",
      "請輸入學生的人數:Blank values are not allowed.\n",
      "請輸入學生的人數:Blank values are not allowed.\n",
      "請輸入學生的人數:Blank values are not allowed.\n",
      "請輸入學生的人數:Blank values are not allowed.\n",
      "請輸入學生的人數:Blank values are not allowed.\n",
      "請輸入學生的人數:Blank values are not allowed.\n",
      "請輸入學生的人數:Blank values are not allowed.\n",
      "請輸入學生的人數:Blank values are not allowed.\n",
      "請輸入學生的人數:Blank values are not allowed.\n",
      "請輸入學生的人數:Blank values are not allowed.\n",
      "請輸入學生的人數:Blank values are not allowed.\n",
      "請輸入學生的人數:Blank values are not allowed.\n",
      "請輸入學生的人數:Blank values are not allowed.\n",
      "請輸入學生的人數:Blank values are not allowed.\n",
      "請輸入學生的人數:Blank values are not allowed.\n",
      "請輸入學生的人數:Blank values are not allowed.\n",
      "請輸入學生的人數:Blank values are not allowed.\n",
      "請輸入學生的人數:Blank values are not allowed.\n",
      "請輸入學生的人數:Blank values are not allowed.\n",
      "請輸入學生的人數:Blank values are not allowed.\n",
      "請輸入學生的人數:Blank values are not allowed.\n",
      "請輸入學生的人數:Blank values are not allowed.\n",
      "請輸入學生的人數:Blank values are not allowed.\n",
      "請輸入學生的人數:"
     ]
    }
   ],
   "source": [
    "import pyinputplus as pyip\n",
    "\n",
    "num = pyip.inputInt('請輸入學生的人數:',min=5,max=50)\n",
    "students = []\n",
    "for _ in range(num):\n",
    "    scores =  generate_stu()\n",
    "    students.append(scores)\n",
    "\n",
    "students"
   ]
  },
  {
   "cell_type": "code",
   "execution_count": null,
   "metadata": {},
   "outputs": [],
   "source": [
    "def getNames(num:int) -> list[str]:\n",
    "    with open(\"names.txt\",encoding=\"utf-8\") as file:\n",
    "        names = []\n",
    "        for name in file:\n",
    "            names.append(name.rstrip())\n",
    "    return random.choices(names, k=num)"
   ]
  },
  {
   "cell_type": "code",
   "execution_count": null,
   "metadata": {},
   "outputs": [
    {
     "name": "stdout",
     "output_type": "stream",
     "text": [
      "請輸入學生的人數6\n"
     ]
    },
    {
     "ename": "NameError",
     "evalue": "name 'getNames' is not defined",
     "output_type": "error",
     "traceback": [
      "\u001b[0;31m---------------------------------------------------------------------------\u001b[0m",
      "\u001b[0;31mNameError\u001b[0m                                 Traceback (most recent call last)",
      "\u001b[1;32m/workspaces/__08_23_1_3__/lesson9_1.ipynb 儲存格 3\u001b[0m line \u001b[0;36m5\n\u001b[1;32m      <a href='vscode-notebook-cell://codespaces%2Bimproved-happiness-5gq57w7vj9w6f4vqv/workspaces/__08_23_1_3__/lesson9_1.ipynb#W2sdnNjb2RlLXJlbW90ZQ%3D%3D?line=2'>3</a>\u001b[0m num \u001b[39m=\u001b[39m pyip\u001b[39m.\u001b[39minputInt(\u001b[39m'\u001b[39m\u001b[39m請輸入學生的人數\u001b[39m\u001b[39m'\u001b[39m,\u001b[39mmin\u001b[39m\u001b[39m=\u001b[39m\u001b[39m5\u001b[39m, \u001b[39mmax\u001b[39m\u001b[39m=\u001b[39m\u001b[39m50\u001b[39m)\n\u001b[1;32m      <a href='vscode-notebook-cell://codespaces%2Bimproved-happiness-5gq57w7vj9w6f4vqv/workspaces/__08_23_1_3__/lesson9_1.ipynb#W2sdnNjb2RlLXJlbW90ZQ%3D%3D?line=3'>4</a>\u001b[0m \u001b[39mprint\u001b[39m(num)\n\u001b[0;32m----> <a href='vscode-notebook-cell://codespaces%2Bimproved-happiness-5gq57w7vj9w6f4vqv/workspaces/__08_23_1_3__/lesson9_1.ipynb#W2sdnNjb2RlLXJlbW90ZQ%3D%3D?line=4'>5</a>\u001b[0m names \u001b[39m=\u001b[39m getNames(num\u001b[39m=\u001b[39mnum)\n\u001b[1;32m      <a href='vscode-notebook-cell://codespaces%2Bimproved-happiness-5gq57w7vj9w6f4vqv/workspaces/__08_23_1_3__/lesson9_1.ipynb#W2sdnNjb2RlLXJlbW90ZQ%3D%3D?line=5'>6</a>\u001b[0m students\u001b[39m=\u001b[39m[]\n\u001b[1;32m      <a href='vscode-notebook-cell://codespaces%2Bimproved-happiness-5gq57w7vj9w6f4vqv/workspaces/__08_23_1_3__/lesson9_1.ipynb#W2sdnNjb2RlLXJlbW90ZQ%3D%3D?line=6'>7</a>\u001b[0m \u001b[39mfor\u001b[39;00m i \u001b[39min\u001b[39;00m \u001b[39mrange\u001b[39m (num):\n",
      "\u001b[0;31mNameError\u001b[0m: name 'getNames' is not defined"
     ]
    }
   ],
   "source": [
    "import pyinputplus as pyip\n",
    "\n",
    "num = pyip.inputInt('請輸入學生的人數',min=5, max=50)\n",
    "print(num)\n",
    "names = getNames(num=num)\n",
    "students=[]\n",
    "for i in range (num):\n",
    "    scores = generate_stu()\n",
    "    scores.insert(0,names[i])\n",
    "    students.append(scores)\n",
    "\n",
    "students"
   ]
  }
 ],
 "metadata": {
  "kernelspec": {
   "display_name": "Python 3",
   "language": "python",
   "name": "python3"
  },
  "language_info": {
   "codemirror_mode": {
    "name": "ipython",
    "version": 3
   },
   "file_extension": ".py",
   "mimetype": "text/x-python",
   "name": "python",
   "nbconvert_exporter": "python",
   "pygments_lexer": "ipython3",
   "version": "3.10.8"
  },
  "orig_nbformat": 4
 },
 "nbformat": 4,
 "nbformat_minor": 2
}
