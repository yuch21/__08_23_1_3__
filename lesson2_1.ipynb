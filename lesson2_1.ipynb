{
 "cells": [
  {
   "cell_type": "code",
   "execution_count": 3,
   "metadata": {},
   "outputs": [
    {
     "name": "stdout",
     "output_type": "stream",
     "text": [
      "面積是 25.0\n"
     ]
    }
   ],
   "source": [
    "#讓使用者輸入梯形的上底下體及高，程式會計算梯形的面積\n",
    "\n",
    "top = int(input(\"請輸入上底:\"))\n",
    "bottom = int(input(\"請輸入下底:\"))\n",
    "height = int(input(\"請輸入高\"))\n",
    "area = (top + bottom)*height/2\n",
    "\n",
    "print(\"面積是\",area)"
   ]
  }
 ],
 "metadata": {
  "kernelspec": {
   "display_name": "Python 3 (ipykernel)",
   "language": "python",
   "name": "python3"
  },
  "language_info": {
   "codemirror_mode": {
    "name": "ipython",
    "version": 3
   },
   "file_extension": ".py",
   "mimetype": "text/x-python",
   "name": "python",
   "nbconvert_exporter": "python",
   "pygments_lexer": "ipython3",
   "version": "3.10.8"
  },
  "orig_nbformat": 4
 },
 "nbformat": 4,
 "nbformat_minor": 2
}
