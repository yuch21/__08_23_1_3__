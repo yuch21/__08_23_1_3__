{
 "cells": [
  {
   "cell_type": "code",
   "execution_count": 6,
   "metadata": {},
   "outputs": [
    {
     "data": {
      "text/plain": [
       "[78, 92, 85, 64, 92]"
      ]
     },
     "execution_count": 6,
     "metadata": {},
     "output_type": "execute_result"
    }
   ],
   "source": [
    "stu1 = [78, 92, 85, 64, 92]\n",
    "stu1"
   ]
  },
  {
   "cell_type": "code",
   "execution_count": 7,
   "metadata": {},
   "outputs": [
    {
     "data": {
      "text/plain": [
       "[90, 90, 90, 90, 90]"
      ]
     },
     "execution_count": 7,
     "metadata": {},
     "output_type": "execute_result"
    }
   ],
   "source": [
    "import random \n",
    "\n",
    "stu2 = []\n",
    "for _ in range(5):\n",
    "    stu2.append(90)\n",
    "stu2    "
   ]
  },
  {
   "cell_type": "code",
   "execution_count": 8,
   "metadata": {},
   "outputs": [
    {
     "data": {
      "text/plain": [
       "[79, 88, 84, 51, 68]"
      ]
     },
     "execution_count": 8,
     "metadata": {},
     "output_type": "execute_result"
    }
   ],
   "source": [
    "import random \n",
    "\n",
    "stu2 = []\n",
    "for _ in range(5):\n",
    "    stu2.append(random.randint(50,100))\n",
    "stu2"
   ]
  },
  {
   "cell_type": "code",
   "execution_count": 9,
   "metadata": {},
   "outputs": [
    {
     "data": {
      "text/plain": [
       "[71, 62, 98, 58, 74]"
      ]
     },
     "execution_count": 9,
     "metadata": {},
     "output_type": "execute_result"
    }
   ],
   "source": [
    "import random\n",
    "\n",
    "def generate_stu():\n",
    "    scores=[]\n",
    "    for _ in range(5):\n",
    "        scores.append(random.randint(50,100))\n",
    "    return scores\n",
    "\n",
    "generate_stu()"
   ]
  },
  {
   "cell_type": "code",
   "execution_count": 10,
   "metadata": {},
   "outputs": [
    {
     "name": "stdout",
     "output_type": "stream",
     "text": [
      "[[95, 63, 69, 71, 56], [61, 67, 98, 57, 90], [86, 98, 94, 78, 85], [97, 97, 88, 54, 72], [96, 83, 91, 64, 77], [97, 65, 81, 93, 91], [52, 53, 69, 94, 84], [58, 94, 65, 93, 67], [77, 59, 50, 50, 98], [50, 94, 50, 90, 93], [95, 51, 57, 89, 82], [78, 87, 53, 54, 70], [72, 59, 82, 60, 53], [96, 70, 91, 85, 95], [62, 66, 82, 90, 73], [77, 53, 92, 54, 61], [85, 89, 50, 90, 79], [51, 50, 60, 83, 71], [60, 87, 79, 95, 95], [99, 65, 73, 84, 51], [59, 75, 82, 86, 86], [64, 66, 96, 100, 58], [55, 84, 88, 53, 89], [83, 66, 84, 51, 76], [50, 72, 55, 86, 57], [94, 96, 51, 95, 57], [57, 72, 96, 90, 66], [91, 69, 74, 87, 80], [89, 71, 62, 59, 64], [77, 96, 60, 71, 77], [93, 92, 89, 51, 88], [94, 97, 52, 73, 52], [63, 55, 81, 72, 72], [95, 62, 51, 56, 94], [68, 95, 69, 76, 81], [98, 77, 82, 95, 77], [60, 60, 56, 54, 83], [82, 52, 86, 86, 54], [59, 94, 94, 69, 92], [95, 67, 76, 68, 97], [92, 75, 55, 79, 97], [51, 77, 61, 87, 62], [68, 88, 97, 64, 54], [88, 75, 71, 66, 90]]\n"
     ]
    }
   ],
   "source": [
    "#建立50個學生\n",
    "while True:\n",
    "    try: \n",
    "        number = int(input('請輸入學生人數'))\n",
    "    except:\n",
    "        print(\"格式錯誤\")\n",
    "    else:\n",
    "        if not (number >= 5 and number <=50):\n",
    "            continue\n",
    "        \n",
    "        students = []\n",
    "        for _ in range(number):\n",
    "            scores = generate_stu()\n",
    "            students.append(scores)\n",
    "\n",
    "        print(students)\n",
    "        break"
   ]
  },
  {
   "cell_type": "code",
   "execution_count": 18,
   "metadata": {},
   "outputs": [],
   "source": [
    "import pyinputplus as pyip\n",
    "\n",
    "num = pyip.inputInt('請輸入學生的人數:',min=5,max=50)\n",
    "students = []\n",
    "for _ in range(num):\n",
    "    scores =  generate_stu()\n",
    "    students.append(scores)\n",
    "\n",
    "students"
   ]
  }
 ],
 "metadata": {
  "kernelspec": {
   "display_name": "Python 3",
   "language": "python",
   "name": "python3"
  },
  "language_info": {
   "codemirror_mode": {
    "name": "ipython",
    "version": 3
   },
   "file_extension": ".py",
   "mimetype": "text/x-python",
   "name": "python",
   "nbconvert_exporter": "python",
   "pygments_lexer": "ipython3",
   "version": "3.10.8"
  },
  "orig_nbformat": 4
 },
 "nbformat": 4,
 "nbformat_minor": 2
}
