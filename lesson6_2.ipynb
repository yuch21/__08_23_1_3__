{
 "cells": [
  {
   "cell_type": "code",
   "execution_count": 9,
   "metadata": {},
   "outputs": [
    {
     "name": "stdout",
     "output_type": "stream",
     "text": [
      "----------猜數字遊戲----------\n",
      "\n",
      "猜數字的範圍:1~10\n",
      "6\n"
     ]
    }
   ],
   "source": [
    "#猜數字遊戲\n",
    "import random\n",
    "\n",
    "min = 1\n",
    "max = 10\n",
    "target = random.randint(min, max)\n",
    "print(\"----------猜數字遊戲----------\\n\")\n",
    "print(f\"猜數字的範圍:{min}~{max}\")\n",
    "print(target)\n",
    "\n"
   ]
  },
  {
   "cell_type": "code",
   "execution_count": 1,
   "metadata": {},
   "outputs": [
    {
     "ename": "IndentationError",
     "evalue": "expected an indented block after 'if' statement on line 18 (3201910093.py, line 19)",
     "output_type": "error",
     "traceback": [
      "\u001b[0;36m  Cell \u001b[0;32mIn[1], line 19\u001b[0;36m\u001b[0m\n\u001b[0;31m    print(f\"賓果！猜對了，答案是:\", target)\u001b[0m\n\u001b[0m    ^\u001b[0m\n\u001b[0;31mIndentationError\u001b[0m\u001b[0;31m:\u001b[0m expected an indented block after 'if' statement on line 18\n"
     ]
    }
   ],
   "source": [
    "#猜數字遊戲(2)modify\n",
    "import random\n",
    "\n",
    "min = 1\n",
    "max = 10\n",
    "count = 0\n",
    "target = random.randint(min, max)\n",
    "print(\"----------猜數字遊戲----------\\n\")\n",
    "\n",
    "while (True):\n",
    "    try:\n",
    "        keyin = int(input(f\"猜數字範圍{min}~{max}:\"))\n",
    "    except:\n",
    "        print(\"輸入格式錯誤\")\n",
    "        count+=1\n",
    "    else:\n",
    "        count+=1\n",
    "        if keyin == target: \n",
    "        print(f\"賓果！猜對了，答案是:\", target)\n",
    "        print(f\"你總共猜對了{count}次\")\n",
    "        break\n",
    "    else:\n",
    "        print(\"猜錯了\")\n",
    "        print(\"你已經猜了{count}次\")\n",
    "    print(\"遊戲結束\")\n"
   ]
  }
 ],
 "metadata": {
  "kernelspec": {
   "display_name": "Python 3",
   "language": "python",
   "name": "python3"
  },
  "language_info": {
   "codemirror_mode": {
    "name": "ipython",
    "version": 3
   },
   "file_extension": ".py",
   "mimetype": "text/x-python",
   "name": "python",
   "nbconvert_exporter": "python",
   "pygments_lexer": "ipython3",
   "version": "3.10.8"
  },
  "orig_nbformat": 4
 },
 "nbformat": 4,
 "nbformat_minor": 2
}
