{
 "cells": [
  {
   "cell_type": "code",
   "execution_count": 6,
   "metadata": {},
   "outputs": [
    {
     "name": "stdout",
     "output_type": "stream",
     "text": [
      "對邊:2.5,斜邊:5.0\n",
      "弳度是:0.524,角度是30\n"
     ]
    }
   ],
   "source": [
    "#讓使用者輸入直角三角形的對邊 ＃讓使用者輸入直角三角形的斜邊 ＃計算角度\n",
    "#round是四捨五入\n",
    "\n",
    "import math \n",
    "\n",
    "side = float(input('請輸入對邊:'))\n",
    "another_side = float(input('請輸入斜邊:'))\n",
    "radian = math.asin(side / another_side)\n",
    "degree = math.degrees(radian)\n",
    "print(f'對邊:{side},斜邊:{another_side}')\n",
    "print(f'弳度是:{radian:.3f},角度是{round(degree)}')\n",
    "\n"
   ]
  }
 ],
 "metadata": {
  "kernelspec": {
   "display_name": "Python 3",
   "language": "python",
   "name": "python3"
  },
  "language_info": {
   "codemirror_mode": {
    "name": "ipython",
    "version": 3
   },
   "file_extension": ".py",
   "mimetype": "text/x-python",
   "name": "python",
   "nbconvert_exporter": "python",
   "pygments_lexer": "ipython3",
   "version": "3.10.8"
  },
  "orig_nbformat": 4
 },
 "nbformat": 4,
 "nbformat_minor": 2
}
