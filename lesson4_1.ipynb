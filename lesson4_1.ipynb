{
 "cells": [
  {
   "cell_type": "code",
   "execution_count": 4,
   "metadata": {},
   "outputs": [
    {
     "data": {
      "text/plain": [
       "True"
      ]
     },
     "metadata": {},
     "output_type": "display_data"
    },
    {
     "data": {
      "text/plain": [
       "False"
      ]
     },
     "execution_count": 4,
     "metadata": {},
     "output_type": "execute_result"
    }
   ],
   "source": [
    "#比較運算子\n",
    "x = 7\n",
    "display(x == 7)\n",
    "\n",
    "5 > x"
   ]
  },
  {
   "cell_type": "code",
   "execution_count": 8,
   "metadata": {},
   "outputs": [
    {
     "name": "stdout",
     "output_type": "stream",
     "text": [
      "及格\n"
     ]
    }
   ],
   "source": [
    "score = int(input(\"請輸入分數\"))\n",
    "if score < 60:\n",
    "    print (\"不及格\")\n",
    "else:\n",
    "    print(\"及格\")"
   ]
  },
  {
   "cell_type": "code",
   "execution_count": 1,
   "metadata": {},
   "outputs": [
    {
     "name": "stdout",
     "output_type": "stream",
     "text": [
      "262\n",
      "262\n",
      "262\n",
      "程式結束\n"
     ]
    }
   ],
   "source": [
    "#學生總分為300\n",
    "#有些學生可以加分5%\n",
    "#如果加分超過300,就以300分為準\n",
    "try:\n",
    "    scores = int(input(\"請輸入學生分數(最高300分):\"))\n",
    "except:\n",
    "    print(\"輸入錯誤\")\n",
    "else:\n",
    "    is_add = input(\"學生是否符合加分條件?(y,n)\")\n",
    "    if(is_add == \"y\"): #單項選擇\n",
    "        scores *= 1.05\n",
    "        if scores > 300: #巢狀判斷\n",
    "            scores = 300\n",
    "\n",
    "    print(int(scores))\n",
    "    print(round(scores))\n",
    "    print(f'{scores:.0f}')\n",
    "\n",
    "print(\"程式結束\")"
   ]
  },
  {
   "cell_type": "code",
   "execution_count": 2,
   "metadata": {},
   "outputs": [
    {
     "name": "stdout",
     "output_type": "stream",
     "text": [
      "您的分數是:350\n",
      "程式結束\n"
     ]
    }
   ],
   "source": [
    "try:\n",
    "    scores = int(input(\"請輸入學生分數(最高300分):\"))\n",
    "    print(f\"您的分數是:{scores}\")\n",
    "except:\n",
    "    print(f\"輸入錯誤:{scores}\")\n",
    "print(\"程式結束\")"
   ]
  },
  {
   "cell_type": "code",
   "execution_count": 1,
   "metadata": {},
   "outputs": [
    {
     "name": "stdout",
     "output_type": "stream",
     "text": [
      "及格\n"
     ]
    }
   ],
   "source": [
    "scores = 89\n",
    "if scores >= 60:\n",
    "    print(\"及格\")\n",
    "else:\n",
    "    print(\"不及格\")"
   ]
  },
  {
   "cell_type": "code",
   "execution_count": 2,
   "metadata": {},
   "outputs": [
    {
     "name": "stdout",
     "output_type": "stream",
     "text": [
      "大於80\n"
     ]
    }
   ],
   "source": [
    "#2個條件使用巢狀判斷\n",
    "\n",
    "scores = 89\n",
    "if scores >= 60:\n",
    "    if scores <= 80:\n",
    "        print(\"60~80\")\n",
    "    else:\n",
    "        print(\"大於80\")\n",
    "else:\n",
    "    print(\"小於60\")     "
   ]
  },
  {
   "cell_type": "code",
   "execution_count": 20,
   "metadata": {},
   "outputs": [
    {
     "name": "stdout",
     "output_type": "stream",
     "text": [
      "小於60\n"
     ]
    }
   ],
   "source": [
    "#兩個條件使用邏輯運算子\n",
    "\n",
    "scores = 50\n",
    "if scores >=60 and scores <=80:\n",
    "    print(\"60~80\")\n",
    "else: \n",
    "    if scores<60: \n",
    "        print(\"小於60\")\n",
    "    else: \n",
    "        print(\"大於80\")\n",
    "\n",
    "\n"
   ]
  },
  {
   "cell_type": "code",
   "execution_count": 25,
   "metadata": {},
   "outputs": [
    {
     "name": "stdout",
     "output_type": "stream",
     "text": [
      "大於等於80\n"
     ]
    }
   ],
   "source": [
    "scores = 81\n",
    "\n",
    "if scores <= 60:\n",
    "    print(\"小於等於60\")\n",
    "if scores >= 80:\n",
    "    print(\"大於等於80\")"
   ]
  },
  {
   "cell_type": "code",
   "execution_count": 28,
   "metadata": {},
   "outputs": [
    {
     "name": "stdout",
     "output_type": "stream",
     "text": [
      "61~79之間\n"
     ]
    }
   ],
   "source": [
    "#使用邏輯運算子or\n",
    "scores = 75\n",
    " \n",
    "if scores <= 60 or scores >= 80:\n",
    "     print(\"小於等於60或大於等於80\")\n",
    "else:\n",
    "     print (\"61~79之間\")"
   ]
  },
  {
   "cell_type": "code",
   "execution_count": 37,
   "metadata": {},
   "outputs": [
    {
     "name": "stdout",
     "output_type": "stream",
     "text": [
      "81~100\n"
     ]
    }
   ],
   "source": [
    "scores = 90\n",
    "if scores < 60:\n",
    "    print(\"小於60\")\n",
    "elif scores<= 80:       #多項選擇\n",
    "        print (\"60~80\")\n",
    "else:\n",
    "        print (\"81~100\")"
   ]
  },
  {
   "cell_type": "code",
   "execution_count": 39,
   "metadata": {},
   "outputs": [
    {
     "name": "stdout",
     "output_type": "stream",
     "text": [
      "81~100\n"
     ]
    }
   ],
   "source": [
    "#多項選擇（接續上一題方法二\n",
    "scores = 92\n",
    "if scores >80:\n",
    "    print (\"81~100\")\n",
    "elif scores >=60:\n",
    "    print(\"60~80\") \n",
    "else:\n",
    "    print(\"小於60\")"
   ]
  },
  {
   "cell_type": "code",
   "execution_count": 5,
   "metadata": {},
   "outputs": [
    {
     "name": "stdout",
     "output_type": "stream",
     "text": [
      "甲\n"
     ]
    }
   ],
   "source": [
    "# 90(含)~100分為「優」     \n",
    "# 80(含)~89分為「甲」\n",
    "# 70(含)~79分為「乙」\n",
    "# 60(含)~69分為「丙」\n",
    "# 0(含)~59分為「丁」\n",
    "\n",
    "score = int(input(\"請輸入學生分數:\"))\n",
    "if score <=100 and score >=90:\n",
    "    print(\"優\")\n",
    "elif score >=80:\n",
    "    print(\"甲\")\n",
    "elif score >=70:\n",
    "    print(\"乙\")\n",
    "elif score >=60:\n",
    "    print(\"丙\")\n",
    "else:\n",
    "    print(\"丁\")\n",
    "\n"
   ]
  },
  {
   "cell_type": "code",
   "execution_count": 12,
   "metadata": {},
   "outputs": [
    {
     "name": "stdout",
     "output_type": "stream",
     "text": [
      "購買金額是:30100\n",
      "實付金額是:27090.0\n"
     ]
    }
   ],
   "source": [
    "#週年慶\n",
    "#輸入顧客購買金額，若金額在\n",
    "#100000元打8折. \n",
    "#50000打85折. \n",
    "#30000打9折. \n",
    "#10000打95折. \n",
    "\n",
    "money= int(input(\"請輸入購買金額\"))\n",
    "if money<10000:\n",
    "    paymoney = money \n",
    "elif money< 30000:\n",
    "    paymoney = money*0.95 \n",
    "elif money< 50000:\n",
    "    paymoney = money*0.9\n",
    "elif money< 100000:\n",
    "    paymoney = money*0.85\n",
    "else: \n",
    "    paymoney = money*0.8\n",
    "\n",
    "print(f\"購買金額是:{money}\")\n",
    "print(f\"實付金額是:{paymoney}\")\n"
   ]
  },
  {
   "cell_type": "code",
   "execution_count": 24,
   "metadata": {},
   "outputs": [
    {
     "name": "stdout",
     "output_type": "stream",
     "text": [
      "獎金:500\n"
     ]
    }
   ],
   "source": [
    "#國文分數100,同時數學100,獎金1000元\n",
    "#國文分數100,或者數學100,獎金500元\n",
    "#其它獎金0元\n",
    "\n",
    "chinese = int (input(\"請輸入國文分數\"))\n",
    "math = int (input(\"請輸入數學分數\"))\n",
    "bonus  = 0 \n",
    "\n",
    "if chinese == 100 and math == 100:\n",
    "    bonus = 1000\n",
    "elif chinese == 100 or math == 100:\n",
    "    bonus = 500\n",
    "\n",
    "print (f\"獎金:{bonus}\")"
   ]
  },
  {
   "cell_type": "code",
   "execution_count": 26,
   "metadata": {},
   "outputs": [
    {
     "data": {
      "text/plain": [
       "55"
      ]
     },
     "execution_count": 26,
     "metadata": {},
     "output_type": "execute_result"
    }
   ],
   "source": [
    "sum = 0\n",
    "sum +=1\n",
    "sum +=2\n",
    "sum +=3\n",
    "sum +=4\n",
    "sum +=5\n",
    "sum +=6\n",
    "sum +=7\n",
    "sum +=8\n",
    "sum +=9\n",
    "sum +=10\n",
    "\n",
    "sum\n",
    "\n",
    "#方法不要用"
   ]
  },
  {
   "cell_type": "code",
   "execution_count": 28,
   "metadata": {},
   "outputs": [
    {
     "data": {
      "text/plain": [
       "55"
      ]
     },
     "execution_count": 28,
     "metadata": {},
     "output_type": "execute_result"
    }
   ],
   "source": [
    "sum = 0\n",
    "for i in range (1, 11):\n",
    "    sum += i\n",
    "\n",
    "sum"
   ]
  }
 ],
 "metadata": {
  "kernelspec": {
   "display_name": "Python 3",
   "language": "python",
   "name": "python3"
  },
  "language_info": {
   "codemirror_mode": {
    "name": "ipython",
    "version": 3
   },
   "file_extension": ".py",
   "mimetype": "text/x-python",
   "name": "python",
   "nbconvert_exporter": "python",
   "pygments_lexer": "ipython3",
   "version": "3.10.8"
  },
  "orig_nbformat": 4
 },
 "nbformat": 4,
 "nbformat_minor": 2
}
