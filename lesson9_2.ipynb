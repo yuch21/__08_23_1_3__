{
 "cells": [
  {
   "cell_type": "code",
   "execution_count": 1,
   "metadata": {},
   "outputs": [
    {
     "name": "stdout",
     "output_type": "stream",
     "text": [
      "請輸入要取得的名字數量:"
     ]
    },
    {
     "name": "stdout",
     "output_type": "stream",
     "text": [
      "5\n"
     ]
    },
    {
     "data": {
      "text/plain": [
       "['王德城', '郭致恬', '高士凱', '劉旭士', '林佳慧']"
      ]
     },
     "execution_count": 1,
     "metadata": {},
     "output_type": "execute_result"
    }
   ],
   "source": [
    "import pyinputplus as pyip\n",
    "import random\n",
    "\n",
    "with open(\"names.txt\",encoding=\"utf-8\") as file:\n",
    "    names = []\n",
    "    for name in file:\n",
    "        names.append(name.rstrip())\n",
    "\n",
    "num = pyip.inputInt(\"請輸入要取得的名字數量:\",min=0,max=50)\n",
    "print(num)\n",
    "random.choices(names,k=num)\n"
   ]
  },
  {
   "cell_type": "code",
   "execution_count": 1,
   "metadata": {},
   "outputs": [
    {
     "name": "stdout",
     "output_type": "stream",
     "text": [
      "請輸入要取得的名字數量:"
     ]
    },
    {
     "data": {
      "text/plain": [
       "['余丞苓', '李慈啟', '鄭淑珍', '王人仰', '黃江旭', '陳嘉淑']"
      ]
     },
     "execution_count": 1,
     "metadata": {},
     "output_type": "execute_result"
    }
   ],
   "source": [
    "import random \n",
    "import pyinputplus as pyip\n",
    "\n",
    "def getNames(num:int) -> list[str]:\n",
    "    with open(\"names.txt\",encoding=\"utf-8\") as file:\n",
    "        names = []\n",
    "        for name in file:\n",
    "            names.append(name.rstrip())\n",
    "    return random.choices(names, k=num)\n",
    "\n",
    "n = pyip.inputInt(\"請輸入要取得的名字數量:\",min = 0, max = 50)\n",
    "getNames(num=n)\n",
    "    "
   ]
  }
 ],
 "metadata": {
  "kernelspec": {
   "display_name": "Python 3",
   "language": "python",
   "name": "python3"
  },
  "language_info": {
   "codemirror_mode": {
    "name": "ipython",
    "version": 3
   },
   "file_extension": ".py",
   "mimetype": "text/x-python",
   "name": "python",
   "nbconvert_exporter": "python",
   "pygments_lexer": "ipython3",
   "version": "3.10.8"
  },
  "orig_nbformat": 4
 },
 "nbformat": 4,
 "nbformat_minor": 2
}
